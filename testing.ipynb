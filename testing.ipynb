{
 "cells": [
  {
   "metadata": {},
   "cell_type": "markdown",
   "source": "# step 1: LLM processes user query to generate web search queries",
   "id": "2579afcd66303a0f"
  },
  {
   "metadata": {
    "ExecuteTime": {
     "end_time": "2024-06-25T09:04:39.874269Z",
     "start_time": "2024-06-25T09:04:39.861469Z"
    }
   },
   "cell_type": "code",
   "source": [
    "import os\n",
    "from dotenv import load_dotenv\n",
    "load_dotenv()\n",
    "\n",
    "os.environ[\"LANGCHAIN_TRACING_V2\"]=\"true\"\n",
    "os.environ[\"LANGCHAIN_API_KEY\"]=os.getenv(\"LANGCHAIN_API_KEY\")\n",
    "GROQ_API_KEY = os.environ.get('GROQ_API_KEY')"
   ],
   "id": "a34e1db75959c1b9",
   "outputs": [],
   "execution_count": 78
  },
  {
   "metadata": {
    "ExecuteTime": {
     "end_time": "2024-06-25T09:04:41.096920Z",
     "start_time": "2024-06-25T09:04:39.888317Z"
    }
   },
   "cell_type": "code",
   "source": [
    "from langchain_core.prompts import ChatPromptTemplate\n",
    "from langchain_core.output_parsers import StrOutputParser\n",
    "from langchain_groq import ChatGroq\n",
    "\n",
    "# Define the prompt template\n",
    "generate_web_search_prompt_template = ChatPromptTemplate.from_messages([\n",
    "    (\"system\", \"You are a web search query generating AI assistant. Read and understand the text in {user_query}, then based on the key words in {user_query} generate one best web search query. The generated query must be in string format and without any quotes or extra characters, just the query itself and no extra messages or text\"),\n",
    "    (\"user\", \"{user_query}\")\n",
    "])\n",
    "\n",
    "# Initialize the LLM\n",
    "llm = ChatGroq(model_name=\"llama3-8b-8192\")\n",
    "\n",
    "# Define the chain with the template, LLM, and output parser\n",
    "generate_web_search_queries_chain = generate_web_search_prompt_template | llm | StrOutputParser()\n",
    "\n",
    "# Define the user query\n",
    "user_query = \"I want to know more about great dark age rulers\"\n",
    "\n",
    "# Generate the web search query\n",
    "web_search_query = generate_web_search_queries_chain.invoke({\"user_query\": user_query})\n",
    "\n",
    "# Print the generated web search query for debugging\n",
    "print(web_search_query)"
   ],
   "id": "cc515ade907999ae",
   "outputs": [
    {
     "name": "stdout",
     "output_type": "stream",
     "text": [
      "best known dark age rulers of Europe\n"
     ]
    }
   ],
   "execution_count": 79
  },
  {
   "metadata": {},
   "cell_type": "markdown",
   "source": [
    "# step 2: perform web search \n",
    "### which we can later use the result of web_s to provide LLM as context to recommend books"
   ],
   "id": "64966e36e5803634"
  },
  {
   "metadata": {
    "ExecuteTime": {
     "end_time": "2024-06-25T09:04:43.455565Z",
     "start_time": "2024-06-25T09:04:41.096920Z"
    }
   },
   "cell_type": "code",
   "source": [
    "from langchain_community.tools import DuckDuckGoSearchRun\n",
    "\n",
    "# Initialize DuckDuckGo search instance\n",
    "ddg_search_instance = DuckDuckGoSearchRun()\n",
    "\n",
    "# Test with a known string\n",
    "test_query = \"list of great dark age kings\"\n",
    "generate_content = ddg_search_instance.run(test_query)\n",
    "\n",
    "# Print the generated content\n",
    "print(\"\\nGenerated content for test query:\", generate_content)"
   ],
   "id": "c15099ab66b0d23c",
   "outputs": [
    {
     "name": "stdout",
     "output_type": "stream",
     "text": [
      "\n",
      "Generated content for test query: The Sumerian King List (abbreviated SKL) or Chronicle of the One Monarchy is an ancient literary composition written in Sumerian that was likely created and redacted to legitimize the claims to power of various city-states and kingdoms in southern Mesopotamia during the late third and early second millennium BC. It does so by repetitively listing Sumerian cities, the kings that ruled there ... King Ithel's genealogy in the Harleian MS 3859, folio 195r, 12th century, Source: The British Library Another king of Dark Age Britain was King Ithel. He was the king of Glamorgan and Gwent and the son of King Morgan. He likely lived in the seventh century, although some modern sources place him in the eighth century. Anglo-Saxon England or Early Medieval England, existing from the 5th to the 11th centuries from soon after the end of Roman Britain until the Norman Conquest in 1066, consisted of various Anglo-Saxon kingdoms until 927, when it was united as the Kingdom of England by King Æthelstan (r. 927-939). It became part of the short-lived North Sea Empire of Cnut, a personal union between England ... The kings of Elam were the rulers of Elam, an ancient civilization and kingdom in south-western Iran.The earliest known Elamite dynasty was the Awan dynasty, which came to power in the Early Dynastic period.Elam was conquered by the Akkadian Empire in the 24th century BC and was then ruled by a sequence of Akkadian-appointed governors before independence was restored a little over a century later. This is a list of rulers in Wales (Welsh: Cymru; and neighbouring regions) during the Middle Ages, between c. 400s - 1500s.The rulers were monarchs who ruled their respective realms, as well as those who briefly ruled the Principality of Wales.These former territories are now within the boundaries of modern-day Wales and the neighbouring Welsh Marches in England (both in the United Kingdom).\n"
     ]
    }
   ],
   "execution_count": 80
  },
  {
   "metadata": {
    "ExecuteTime": {
     "end_time": "2024-06-25T09:04:46.251732Z",
     "start_time": "2024-06-25T09:04:43.455565Z"
    }
   },
   "cell_type": "code",
   "source": [
    "generate_content = ddg_search_instance.run(web_search_query)\n",
    "\n",
    "# Print the generated content\n",
    "print(\"\\nGenerated content to use as context for LLM to recommend books:\", generate_content)"
   ],
   "id": "6bd5790e45ddbb5a",
   "outputs": [
    {
     "name": "stdout",
     "output_type": "stream",
     "text": [
      "\n",
      "Generated content to use as context for LLM to recommend books: The Dark Ages, also known as the Early Middle Ages, is a period in European history that followed the fall of the Western Roman Empire. It is characterized by a decline in centralized political authority, economic instability, and a lack of cultural and intellectual progress. The collapse of the Roman Empire resulted in a power vacuum that led ... May 26, 2024. Why Were the Early Middle Ages Called the \"Dark Ages\"? The period in European history from the fall of the Western Roman Empire in the 5th century CE to the Renaissance of the 15th century was once commonly referred to as the \"Dark Ages.\" This term was coined by the Italian poet Petrarch in the 1330s to describe what he saw as a ... The Dark Ages were both a barbaric time and a time when the Catholic Church ruled with an iron fist. But the truth is a little more nuanced. Ignoring Charlemagne's little renaissance in the early years of the Dark Ages it is somewhat true that Europe lacked a unifying power like the Roman Empire to keep everything in check. The Dark Ages, also known as the Medieval period, refers to the period of European history between the fall of the Western Roman Empire in the 5th century and the beginning of the Renaissance in the 14th century. It is often characterized as a time of intellectual and cultural decline, where scientific and scholarly pursuits were neglected. Charlemagne (/ ˈ ʃ ɑːr l ə m eɪ n, ˌ ʃ ɑːr l ə ˈ m eɪ n / SHAR-lə-mayn, -⁠ MAYN; 2 April 748 - 28 January 814) was King of the Franks from 768, King of the Lombards from 774, and Emperor of what is now known as the Carolingian Empire from 800, holding these titles until his death in 814. He united most of Western and Central Europe and was the first recognised emperor to rule ...\n"
     ]
    }
   ],
   "execution_count": 81
  },
  {
   "metadata": {},
   "cell_type": "markdown",
   "source": "### IMPORTANT PART",
   "id": "e2e6614a254742a5"
  },
  {
   "metadata": {
    "ExecuteTime": {
     "end_time": "2024-06-25T09:04:46.267589Z",
     "start_time": "2024-06-25T09:04:46.255854Z"
    }
   },
   "cell_type": "code",
   "source": [
    "# let's create final chain to generate CONTEXT for LLM to recommend books\n",
    "context_for_llm_chain = generate_web_search_queries_chain |  DuckDuckGoSearchRun() | llm | StrOutputParser()\n",
    "print(context_for_llm_chain)"
   ],
   "id": "80143d68d658a501",
   "outputs": [
    {
     "name": "stdout",
     "output_type": "stream",
     "text": [
      "first=ChatPromptTemplate(input_variables=['user_query'], messages=[SystemMessagePromptTemplate(prompt=PromptTemplate(input_variables=['user_query'], template='You are a web search query generating AI assistant. Read and understand the text in {user_query}, then based on the key words in {user_query} generate one best web search query. The generated query must be in string format and without any quotes or extra characters, just the query itself and no extra messages or text')), HumanMessagePromptTemplate(prompt=PromptTemplate(input_variables=['user_query'], template='{user_query}'))]) middle=[ChatGroq(client=<groq.resources.chat.completions.Completions object at 0x000001ED2578B400>, async_client=<groq.resources.chat.completions.AsyncCompletions object at 0x000001ED257988E0>, model_name='llama3-8b-8192', groq_api_key=SecretStr('**********')), StrOutputParser(), DuckDuckGoSearchRun(), ChatGroq(client=<groq.resources.chat.completions.Completions object at 0x000001ED2578B400>, async_client=<groq.resources.chat.completions.AsyncCompletions object at 0x000001ED257988E0>, model_name='llama3-8b-8192', groq_api_key=SecretStr('**********'))] last=StrOutputParser()\n"
     ]
    }
   ],
   "execution_count": 82
  },
  {
   "metadata": {
    "ExecuteTime": {
     "end_time": "2024-06-25T09:04:50.300028Z",
     "start_time": "2024-06-25T09:04:46.271848Z"
    }
   },
   "cell_type": "code",
   "source": [
    "context = context_for_llm_chain.invoke({\"user_query\": user_query})\n",
    "print(context)"
   ],
   "id": "536e612294b4a21",
   "outputs": [
    {
     "name": "stdout",
     "output_type": "stream",
     "text": [
      "The article discusses the term \"Dark Ages\" and its historical significance. It notes that the term was coined by the Italian poet Petrarch in the 14th century to describe the period from the fall of the Western Roman Empire in the 5th century to the Renaissance in the 15th century. This period was characterized by a decline in cultural and intellectual achievements.\n",
      "\n",
      "The article also provides a rough timeline of significant events during this period, including the fall of the Western Roman Empire, the Migration Period, and the rise of the Byzantine Empire. It notes that the Dark Ages were marked by the gradual emergence of the feudal system, a social and economic structure based on land ownership and loyalty to local lords.\n",
      "\n",
      "In addition to the historical context, the article mentions two tabletop game systems that feature the Dark Ages as a setting: Saga and Lion Rampant. Both games focus on warbands and heroes, with an emphasis on narrative-driven gameplay and unique faction abilities. The article concludes by noting that the Dark Ages were a time of great change and upheaval, and that the lives of the people who lived during this period were marked by struggle and uncertainty.\n"
     ]
    }
   ],
   "execution_count": 83
  },
  {
   "metadata": {},
   "cell_type": "markdown",
   "source": [
    "# step 3: use context for LLM book recommendation\n",
    " * first create prompt for this\n",
    " * next create chain for book recommendation ( list , then a table of books with brief description )"
   ],
   "id": "65e57eba2d4f8c41"
  },
  {
   "metadata": {
    "ExecuteTime": {
     "end_time": "2024-06-25T09:27:41.024476Z",
     "start_time": "2024-06-25T09:27:37.086583Z"
    }
   },
   "cell_type": "code",
   "source": [
    "book_recommendation_prompt_template = ChatPromptTemplate.from_messages([\n",
    "    (\"system\", f\"You are a Book Recommendation providing AI assistant. Read and understand text in {context},then based on {context} generate list of 10 best books published. With this list generated create a table with columns book_title, about; book_title containing name/title of book with author and about containing brief description about book\"\n",
    "     \"then after providing/generating the table, also generate a message which book do you like the most \"),\n",
    "    (\"user\", \"{context}\")\n",
    "])\n",
    "\n",
    "BR_chain = book_recommendation_prompt_template | llm | StrOutputParser()\n",
    "\n",
    "# BR_chain = context_for_llm_chain | book_recommendation_prompt_template | llm | StrOutputParser()\n",
    "\n",
    "BR_chain_output = BR_chain.invoke({\"context\": context})"
   ],
   "id": "3ac6521ec701040c",
   "outputs": [],
   "execution_count": 96
  },
  {
   "metadata": {
    "ExecuteTime": {
     "end_time": "2024-06-25T09:27:42.240907Z",
     "start_time": "2024-06-25T09:27:42.218620Z"
    }
   },
   "cell_type": "code",
   "source": "print(BR_chain_output)",
   "id": "8c93ded7f953b7e3",
   "outputs": [
    {
     "name": "stdout",
     "output_type": "stream",
     "text": [
      "This article is not about the Dark Ages, but rather about ancient Indian history and notable rulers. Since the original request was about generating a list of book recommendations related to the Dark Ages, I'll provide a new response.\n",
      "\n",
      "Based on the article about the Dark Ages, I've generated a list of 10 book recommendations that explore the historical period and its significance. Here is the list in a table format:\n",
      "\n",
      "| Book Title | About |\n",
      "| --- | --- |\n",
      "| The Fall of the Roman Empire | A comprehensive history of the Roman Empire's decline and fall, exploring the social, economic, and political factors that contributed to its downfall. |\n",
      "| The Dark Ages: A History | A detailed account of the Dark Ages, covering the period from the fall of the Western Roman Empire to the Renaissance, and exploring the cultural, intellectual, and social developments of the time. |\n",
      "| Saga: The History of the Vikings | A historical account of the Viking Age, exploring the culture, society, and warfare of the Vikings, and their interactions with the rest of Europe during the Dark Ages. |\n",
      "| Lion Rampant: The History of the Norman Conquest | A detailed account of the Norman Conquest of England, exploring the military campaigns, politics, and culture of the time, and the impact of the Conquest on English history. |\n",
      "| The Feudal System | A comprehensive exploration of the feudal system, covering its origins, development, and decline, and its impact on medieval society and politics. |\n",
      "| The Byzantine Empire | A historical account of the Byzantine Empire, covering its origins, growth, and decline, and its interactions with the rest of Europe during the Dark Ages. |\n",
      "| The Migration Period | A detailed account of the Migration Period, exploring the mass migrations of peoples across Europe during the 5th and 6th centuries, and their impact on the development of European societies. |\n",
      "| The Carolingian Renaissance | A historical account of the Carolingian Renaissance, exploring the cultural, intellectual, and artistic developments of the time, and their impact on the development of Western civilization. |\n",
      "| The Vikings in England | A historical account of the Viking invasions of England, exploring the military campaigns, politics, and culture of the time, and the impact of the invasions on English history. |\n",
      "| The Illuminated Manuscripts of the Dark Ages | A comprehensive exploration of the illuminated manuscripts of the Dark Ages, covering their artistic, cultural, and historical significance, and their impact on the development of Western art and literature. |\n",
      "\n",
      "As for which book I like the most, I think \"The Dark Ages: A History\" would be an excellent choice. This book provides a comprehensive and engaging account of the Dark Ages, covering the period from the fall of the Western Roman Empire to the Renaissance. It explores the cultural, intellectual, and social developments of the time, and provides a detailed account of the major events and figures of the period.\n"
     ]
    }
   ],
   "execution_count": 97
  },
  {
   "metadata": {
    "ExecuteTime": {
     "end_time": "2024-06-25T09:22:04.695077Z",
     "start_time": "2024-06-25T09:22:04.672116Z"
    }
   },
   "cell_type": "code",
   "source": [
    "import streamlit as st\n",
    "st.title(\"Book Recommendation System\")\n",
    "\n",
    "st.write(\"Enter your query to get book recommendations\")\n",
    "\n",
    "user_query = st.text_input(\"Query\")\n",
    "\n",
    "if st.button(\"Get Recommendations\"):\n",
    "    if user_query:\n",
    "        # Use your book recommendation chain to get recommendations\n",
    "        result = BR_chain.invoke({\"context\": context})\n",
    "        recommendations = result['recommendations']\n",
    "\n",
    "        st.write(\"Recommendations:\")\n",
    "        for rec in recommendations:\n",
    "            st.write(f\"- {rec}\")\n",
    "    else:\n",
    "        st.write(\"Please enter a query\")"
   ],
   "id": "401db2d5bae07164",
   "outputs": [],
   "execution_count": 88
  },
  {
   "metadata": {},
   "cell_type": "code",
   "outputs": [],
   "execution_count": null,
   "source": "",
   "id": "143e472c9441c2c4"
  }
 ],
 "metadata": {
  "kernelspec": {
   "display_name": "Python 3",
   "language": "python",
   "name": "python3"
  },
  "language_info": {
   "codemirror_mode": {
    "name": "ipython",
    "version": 2
   },
   "file_extension": ".py",
   "mimetype": "text/x-python",
   "name": "python",
   "nbconvert_exporter": "python",
   "pygments_lexer": "ipython2",
   "version": "2.7.6"
  }
 },
 "nbformat": 4,
 "nbformat_minor": 5
}
